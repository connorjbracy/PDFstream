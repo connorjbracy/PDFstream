{
  "cells": [
    {
      "cell_type": "code",
      "execution_count": null,
      "metadata": {
        "collapsed": false
      },
      "outputs": [],
      "source": [
        "%matplotlib inline"
      ]
    },
    {
      "cell_type": "markdown",
      "metadata": {},
      "source": [
        "\n# Modeling of the PDF of Ni.\n\nA simple example of how to model a PDF using a crystal structure and a characteristic function.\n"
      ]
    },
    {
      "cell_type": "code",
      "execution_count": null,
      "metadata": {
        "collapsed": false
      },
      "outputs": [],
      "source": [
        "import pdfstream.io as io\nimport pdfstream.modeling as M"
      ]
    },
    {
      "cell_type": "markdown",
      "metadata": {},
      "source": [
        "load the data and meta data from data file to a data parser\n\n"
      ]
    },
    {
      "cell_type": "code",
      "execution_count": null,
      "metadata": {
        "collapsed": false
      },
      "outputs": [],
      "source": [
        "data = io.load_parser(\n    \"data/Ni_damped.gr\",\n    {\"qbroad\": 0.04, \"qdamp\": 0.02}\n)"
      ]
    },
    {
      "cell_type": "markdown",
      "metadata": {},
      "source": [
        "create a crystal object using the cif file\n\n"
      ]
    },
    {
      "cell_type": "code",
      "execution_count": null,
      "metadata": {
        "collapsed": false
      },
      "outputs": [],
      "source": [
        "crystal = io.load_crystal(\"data/Ni.cif\")"
      ]
    },
    {
      "cell_type": "markdown",
      "metadata": {},
      "source": [
        "create a recipe whose \"name\" is \"nickel\"\nthe fitting target is the data we loaded from the data file\nthe fitting range is from 2.2 A to 22.2 A with 0.01 A as step\nthe equation is \"f * G\"\n\"f\" is the spherical characteristic function\n\"G\" is the PDF calculated from the Ni crystal we loaded from the cif file\n\n"
      ]
    },
    {
      "cell_type": "code",
      "execution_count": null,
      "metadata": {
        "collapsed": false
      },
      "outputs": [],
      "source": [
        "recipe = M.create(\n    \"nickel\",\n    data,\n    (2.2, 22.2, 0.01),\n    \"f * G\",\n    {\"f\": M.F.sphericalCF},\n    {\"G\": crystal}\n)"
      ]
    },
    {
      "cell_type": "markdown",
      "metadata": {},
      "source": [
        "initialize the recipe with the fitting parameters\ndifferent initialization mode can be chosen using the key words in the function\n\n"
      ]
    },
    {
      "cell_type": "code",
      "execution_count": null,
      "metadata": {
        "collapsed": false
      },
      "outputs": [],
      "source": [
        "M.initialize(recipe)"
      ]
    },
    {
      "cell_type": "markdown",
      "metadata": {},
      "source": [
        "set the initial value of \"psize\" parameter in \"f\"\n\n"
      ]
    },
    {
      "cell_type": "code",
      "execution_count": null,
      "metadata": {
        "collapsed": false
      },
      "outputs": [],
      "source": [
        "recipe.f_psize.setValue(25.)"
      ]
    },
    {
      "cell_type": "markdown",
      "metadata": {},
      "source": [
        "set the lower bound of \"psize\"\n\n"
      ]
    },
    {
      "cell_type": "code",
      "execution_count": null,
      "metadata": {
        "collapsed": false
      },
      "outputs": [],
      "source": [
        "recipe.f_psize.boundRange(lb=0.)"
      ]
    },
    {
      "cell_type": "markdown",
      "metadata": {},
      "source": [
        "define what parameter to refine in each step\nthe parameters will be freed and refined one by one according to the order in the list\n\n"
      ]
    },
    {
      "cell_type": "code",
      "execution_count": null,
      "metadata": {
        "collapsed": false
      },
      "outputs": [],
      "source": [
        "STEPS = [\n    (\"G_scale\", \"f_psize\"),\n    \"G_lat\",\n    (\"G_adp\", \"G_delta2\")\n]"
      ]
    },
    {
      "cell_type": "markdown",
      "metadata": {},
      "source": [
        "start optimization\n\n"
      ]
    },
    {
      "cell_type": "code",
      "execution_count": null,
      "metadata": {
        "collapsed": false
      },
      "outputs": [],
      "source": [
        "M.optimize(recipe, STEPS)"
      ]
    },
    {
      "cell_type": "markdown",
      "metadata": {},
      "source": [
        "view the fitted data\n\n"
      ]
    },
    {
      "cell_type": "code",
      "execution_count": null,
      "metadata": {
        "collapsed": false
      },
      "outputs": [],
      "source": [
        "M.view_fits(recipe)"
      ]
    },
    {
      "cell_type": "markdown",
      "metadata": {},
      "source": [
        "report the fitting results\n\n"
      ]
    },
    {
      "cell_type": "code",
      "execution_count": null,
      "metadata": {
        "collapsed": false
      },
      "outputs": [],
      "source": [
        "M.report(recipe)"
      ]
    },
    {
      "cell_type": "markdown",
      "metadata": {},
      "source": [
        "uncomment the following line to save the recipe\n\n"
      ]
    },
    {
      "cell_type": "code",
      "execution_count": null,
      "metadata": {
        "collapsed": false
      },
      "outputs": [],
      "source": [
        "M.save(recipe, \"Ni_refined\", \"outputs\")"
      ]
    },
    {
      "cell_type": "markdown",
      "metadata": {},
      "source": [
        "fitting result will be saved in .res file\nthe fitted data will be saved in .fgr file\nthe refined structure will be saved in .cif file\n\n"
      ]
    }
  ],
  "metadata": {
    "kernelspec": {
      "display_name": "Python 3",
      "language": "python",
      "name": "python3"
    },
    "language_info": {
      "codemirror_mode": {
        "name": "ipython",
        "version": 3
      },
      "file_extension": ".py",
      "mimetype": "text/x-python",
      "name": "python",
      "nbconvert_exporter": "python",
      "pygments_lexer": "ipython3",
      "version": "3.7.7"
    }
  },
  "nbformat": 4,
  "nbformat_minor": 0
}