{
  "cells": [
    {
      "cell_type": "code",
      "execution_count": null,
      "metadata": {
        "collapsed": false
      },
      "outputs": [],
      "source": [
        "%matplotlib inline"
      ]
    },
    {
      "cell_type": "markdown",
      "metadata": {},
      "source": [
        "# XPD Analyzer\n\nThis analyzer processes the x-ray powder diffraction images and yields pair distribution function data.\nIt is basically a wrapper of the core of the XPD server and thus its functionality is the same as the XPD server.\nThe only difference is that the XPD server receives data from the messages sent by a proxy\nwhile the analyzer takes data from a database entry.\nIf you would like to know what the analyzer does and what input and output look like,\nplease see `xpd-server-functionalities`.\n\nThe sections below show how to use the XPD analyzer in Ipython.\n"
      ]
    },
    {
      "cell_type": "markdown",
      "metadata": {},
      "source": [
        "## Create an analyzer\n\nTo create an ``XPDAnalyzer``, you need to create a ``XPDAnalyzerConfig`` first.\nThe ``XPDAnalyzerConfig`` is an object that holds the configuration of the analyzer.\n\n"
      ]
    },
    {
      "cell_type": "code",
      "execution_count": null,
      "metadata": {
        "collapsed": false
      },
      "outputs": [],
      "source": [
        "from pdfstream.analyzers.xpd_analyzer import XPDAnalyzerConfig, XPDAnalyzer\n\nconfig = XPDAnalyzerConfig(allow_no_value=True)"
      ]
    },
    {
      "cell_type": "markdown",
      "metadata": {},
      "source": [
        "The ``allow_no_value`` is an optional argument.\nPlease see the document of `configparser <https://docs.python.org/3/library/configparser.html>`_ for details of\nthe arguments.\nIt is the parent class of the ``XPDAnalyzerConfig``.\n\nThen, we will load the configuration parameters into the ``config``.\nWe can use a .ini file, a python string or a python dictionary.\n\n"
      ]
    },
    {
      "cell_type": "code",
      "execution_count": null,
      "metadata": {
        "collapsed": false
      },
      "outputs": [],
      "source": [
        "config.read(\"../source/_static/xpd_analyzer.ini\")"
      ]
    },
    {
      "cell_type": "markdown",
      "metadata": {},
      "source": [
        "Here, we use a .ini file as an example.\nThe content of the file is shown below and the meaning of the parameters is described in the comments.\nPlease read through it and change it according to your needs.\n\n.. include:: ../_static/xpd_analyzer.ini\n   :literal:\n\nNow, we have a ``config`` loaded with parameters.\nWe use it to create an analyzer.\n\n"
      ]
    },
    {
      "cell_type": "code",
      "execution_count": null,
      "metadata": {
        "collapsed": false
      },
      "outputs": [],
      "source": [
        "analyzer = XPDAnalyzer(config)"
      ]
    },
    {
      "cell_type": "markdown",
      "metadata": {},
      "source": [
        "## Get data from databroker\n\nThe input data of the analyzer is a ``BlueskyRun``, the data entry retrieved by from a databroker catalog.\nBelow is an example showing the process of retrieving one run from a catalog according to its unique ID.\n\n"
      ]
    },
    {
      "cell_type": "code",
      "execution_count": null,
      "metadata": {
        "collapsed": false
      },
      "outputs": [],
      "source": [
        "db = config.raw_db\nrun = db['9d320500-b3c8-47a2-8554-ca63fa092c17']"
      ]
    },
    {
      "cell_type": "markdown",
      "metadata": {},
      "source": [
        "Here, ``db`` is a databroker catalog loaded according to your configuration.\nPlease visit `databroker user documents <https://blueskyproject.io/databroker/v2/user/index.html>`_ for details\nabout what you can do with the ``db`` and ``run``.\nThe data inside this run is show below.\n\n"
      ]
    },
    {
      "cell_type": "code",
      "execution_count": null,
      "metadata": {
        "collapsed": false
      },
      "outputs": [],
      "source": [
        "raw_data = run.primary.read()\nraw_data"
      ]
    },
    {
      "cell_type": "markdown",
      "metadata": {},
      "source": [
        "The data is processed by the analyzer is the diffraction image.\n\n"
      ]
    },
    {
      "cell_type": "code",
      "execution_count": null,
      "metadata": {
        "collapsed": false
      },
      "outputs": [],
      "source": [
        "import matplotlib.pyplot as plt\n\nimage = raw_data[\"pe1_image\"]\nimage.plot(vmin=0, vmax=image.mean() + 2. * image.std())\nplt.show()"
      ]
    },
    {
      "cell_type": "markdown",
      "metadata": {},
      "source": [
        "In both ways, we need to use string values even if the ``qmax`` is actually a number.\n\nAfter we run either line of the code above, the analyzer will use ``qmax = 20`` in the data processing.\n\n## Process the data\n\nWe use the analyzer to process the data.\n\n"
      ]
    },
    {
      "cell_type": "code",
      "execution_count": null,
      "metadata": {
        "collapsed": false
      },
      "outputs": [],
      "source": [
        "analyzer.analyze(run)"
      ]
    },
    {
      "cell_type": "markdown",
      "metadata": {},
      "source": [
        "## Get processed data from databroker\n\nThe data is dumped into databroker ``an_db`` by the analyzer.\nWe retrieve the last run in the database and it should be the processed data from our analyzer.\n\n"
      ]
    },
    {
      "cell_type": "code",
      "execution_count": null,
      "metadata": {
        "collapsed": false
      },
      "outputs": [],
      "source": [
        "an_db = config.an_db\nan_run = an_db[-1]"
      ]
    },
    {
      "cell_type": "markdown",
      "metadata": {},
      "source": [
        "Here, we show the processed data in an xarray.\n\n"
      ]
    },
    {
      "cell_type": "code",
      "execution_count": null,
      "metadata": {
        "collapsed": false
      },
      "outputs": [],
      "source": [
        "an_data = an_run.primary.read()\nan_data"
      ]
    },
    {
      "cell_type": "markdown",
      "metadata": {},
      "source": [
        "We plot the some of the important data to give a sense of what the processed data looks like.\nFirst, we plot the masked dark subtracted image.\n\n"
      ]
    },
    {
      "cell_type": "code",
      "execution_count": null,
      "metadata": {
        "collapsed": false
      },
      "outputs": [],
      "source": [
        "import numpy as np\n\nimage2 = np.ma.masked_array(an_data[\"dk_sub_image\"], an_data[\"mask\"])\nimage2 = np.ma.squeeze(image2)\nplt.matshow(image2, vmin=0., vmax=image2.mean() + 2. * image2.std())\nplt.colorbar()\nplt.show()"
      ]
    },
    {
      "cell_type": "markdown",
      "metadata": {},
      "source": [
        "Second, we show the XRD data obtained from the dark subtracted image above.\n\n"
      ]
    },
    {
      "cell_type": "code",
      "execution_count": null,
      "metadata": {
        "collapsed": false
      },
      "outputs": [],
      "source": [
        "chi = np.stack((an_data[\"chi_Q\"], an_data[\"chi_I\"])).squeeze()\nplt.plot(*chi)\nplt.show()"
      ]
    },
    {
      "cell_type": "markdown",
      "metadata": {},
      "source": [
        "Finally, it is the PDF data transferred from XRD data.\n\n"
      ]
    },
    {
      "cell_type": "code",
      "execution_count": null,
      "metadata": {
        "collapsed": false
      },
      "outputs": [],
      "source": [
        "gr = np.stack((an_data[\"gr_r\"], an_data[\"gr_G\"])).squeeze()\nplt.plot(*gr)\nplt.show()"
      ]
    },
    {
      "cell_type": "markdown",
      "metadata": {},
      "source": [
        "## Change settings\n\nWe can change all the settings for the analyzer except the visualization settings\nbefore or after the analyzer is created.\nFor example, we think that the ``qmax`` in section ``TRANSFORMATION SETTING``\nis slightly larger than the ideal and thus we decrease it to 20 inverse angstrom.\n\n"
      ]
    },
    {
      "cell_type": "code",
      "execution_count": null,
      "metadata": {
        "collapsed": false
      },
      "outputs": [],
      "source": [
        "config.set(\"TRANSFORMATION SETTING\", \"qmax\", '20')"
      ]
    },
    {
      "cell_type": "markdown",
      "metadata": {},
      "source": [
        "We can also use another way.\n\n"
      ]
    },
    {
      "cell_type": "code",
      "execution_count": null,
      "metadata": {
        "collapsed": false
      },
      "outputs": [],
      "source": [
        "config[\"TRANSFORMATION SETTING\"][\"qmax\"] = '20'"
      ]
    },
    {
      "cell_type": "markdown",
      "metadata": {},
      "source": [
        "Then, we just need to run ``analyzer.analyze(run)``.\nYou don't need to create another analyzer if you tune the configuration other than \"BASIC\" and \"FUNCTIONALITY\".\n\n"
      ]
    },
    {
      "cell_type": "markdown",
      "metadata": {},
      "source": [
        "## Export the processed data to files\n\nBesides saving the metadata and data in the database, we can also export them in files at the same time.\nFor example, we run the code blow to let the analyzer export the processed data into the ``~/my_folder``.\n\n"
      ]
    },
    {
      "cell_type": "code",
      "execution_count": null,
      "metadata": {
        "collapsed": false
      },
      "outputs": [],
      "source": [
        "config[\"FUNCTIONALITY\"][\"export_files\"] = \"True\"\nconfig[\"FILE SYSTEM\"][\"tiff_base\"] = \"~/my_folder\""
      ]
    },
    {
      "cell_type": "markdown",
      "metadata": {},
      "source": [
        "Then, we need to build the analyzer again ``analyzer = XPDAnalyzer(config)`` to make the functionality\ntake effect and rerun the analysis ``analyzer.analyze(run)``.\nThe detail of what the data will be like is introduced in `xpd-server-data`.\n\n"
      ]
    },
    {
      "cell_type": "markdown",
      "metadata": {},
      "source": [
        "## Live visualization\n\nIf you would like see the figures of processed data at the same time of data processing\n, run the code below to turn on the functionality.\n\n"
      ]
    },
    {
      "cell_type": "code",
      "execution_count": null,
      "metadata": {
        "collapsed": false
      },
      "outputs": [],
      "source": [
        "config[\"FUNCTIONALITY\"][\"visualize_data\"] = \"True\""
      ]
    },
    {
      "cell_type": "markdown",
      "metadata": {},
      "source": [
        "Then, we need to build the analyzer again ``analyzer = XPDAnalyzer(config)`` to make the functionality\ntake effect and rerun the analysis ``analyzer.analyze(run)``.\nThe detail of what the figures will be like is introduced in `xpd-server-figures`.\n\n"
      ]
    },
    {
      "cell_type": "markdown",
      "metadata": {},
      "source": [
        "## Send to a server\n\nWe can even send the streaming processed data to a server in an internal network.\nTo make it, we need to turn the functionality on.\n\n"
      ]
    },
    {
      "cell_type": "code",
      "execution_count": null,
      "metadata": {
        "collapsed": false
      },
      "outputs": [],
      "source": [
        "config[\"FUNCTIONALITY\"][\"send_messages\"] = \"True\""
      ]
    },
    {
      "cell_type": "markdown",
      "metadata": {},
      "source": [
        "Then, we need to build the analyzer again ``analyzer = XPDAnalyzer(config)`` to make the functionality\ntake effect and rerun the analysis ``analyzer.analyze(run)``.\nThe server specified in the configuration will receive message from our analyzer.\n\n"
      ]
    },
    {
      "cell_type": "markdown",
      "metadata": {},
      "source": [
        "## Replay the data processing\n\nWe can replay the analysis process according to the metadata and data in the analysis run.\n\n"
      ]
    },
    {
      "cell_type": "code",
      "execution_count": null,
      "metadata": {
        "collapsed": false
      },
      "outputs": [],
      "source": [
        "from pdfstream.analyzers.xpd_analyzer import replay\n\nconfig2, analyzer2 = replay(an_run)"
      ]
    },
    {
      "cell_type": "markdown",
      "metadata": {},
      "source": [
        "The ``confgi2`` and ``analyzer2`` have the same settings as the ``config`` and ``analyzer``\nexcept the databases.\nIt is because we uses two special temporary databases for the demonstration.\nYou will not encounter the problem if you are using permanent database in catalog.\n\n"
      ]
    }
  ],
  "metadata": {
    "kernelspec": {
      "display_name": "Python 3",
      "language": "python",
      "name": "python3"
    },
    "language_info": {
      "codemirror_mode": {
        "name": "ipython",
        "version": 3
      },
      "file_extension": ".py",
      "mimetype": "text/x-python",
      "name": "python",
      "nbconvert_exporter": "python",
      "pygments_lexer": "ipython3",
      "version": "3.7.9"
    }
  },
  "nbformat": 4,
  "nbformat_minor": 0
}